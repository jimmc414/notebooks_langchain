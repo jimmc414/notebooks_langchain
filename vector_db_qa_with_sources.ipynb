{
 "cells": [
  {
   "cell_type": "markdown",
   "id": "efc5be67",
   "metadata": {},
   "source": [
    "# VectorDB Question Ansering with Sources\n",
    "\n",
    "This notebook goes over how to do question-answering with sources. It does this in a few different ways - first showing how you can use the `QAWithSourcesChain` to take in documents and use those, and next showing the `VectorDBQAWithSourcesChain`, which also does the lookup of the documents from a vector database. "
   ]
  },
  {
   "cell_type": "code",
   "execution_count": 1,
   "id": "1c613960",
   "metadata": {},
   "outputs": [],
   "source": [
    "from langchain.embeddings.openai import OpenAIEmbeddings\n",
    "from langchain.embeddings.cohere import CohereEmbeddings\n",
    "from langchain.text_splitter import CharacterTextSplitter\n",
    "from langchain.vectorstores.elastic_vector_search import ElasticVectorSearch\n",
    "from langchain.vectorstores.faiss import FAISS"
   ]
  },
  {
   "cell_type": "code",
   "execution_count": 2,
   "id": "17d1306e",
   "metadata": {},
   "outputs": [],
   "source": [
    "with open('../state_of_the_union.txt') as f:\n",
    "    state_of_the_union = f.read()\n",
    "text_splitter = CharacterTextSplitter(chunk_size=1000, chunk_overlap=0)\n",
    "texts = text_splitter.split_text(state_of_the_union)\n",
    "\n",
    "embeddings = OpenAIEmbeddings()"
   ]
  },
  {
   "cell_type": "code",
   "execution_count": 3,
   "id": "0e745d99",
   "metadata": {},
   "outputs": [],
   "source": [
    "docsearch = FAISS.from_texts(texts, embeddings)"
   ]
  },
  {
   "cell_type": "code",
   "execution_count": 4,
   "id": "f42d79dc",
   "metadata": {},
   "outputs": [],
   "source": [
    "# Add in a fake source information\n",
    "for i, d in enumerate(docsearch.docstore._dict.values()):\n",
    "    d.metadata = {'source': f\"{i}-pl\"}"
   ]
  },
  {
   "cell_type": "markdown",
   "id": "e6fc81de",
   "metadata": {},
   "source": [
    "### VectorDBQAWithSourcesChain\n",
    "\n",
    "This shows how to use the `VectorDBQAWithSourcesChain`, which uses a vector database to look up relevant documents."
   ]
  },
  {
   "cell_type": "code",
   "execution_count": 9,
   "id": "8aa571ae",
   "metadata": {},
   "outputs": [],
   "source": [
    "from langchain.chains import VectorDBQAWithSourcesChain"
   ]
  },
  {
   "cell_type": "code",
   "execution_count": 10,
   "id": "aa859d4c",
   "metadata": {},
   "outputs": [],
   "source": [
    "chain = VectorDBQAWithSourcesChain.from_llm(OpenAI(temperature=0), vectorstore=docsearch)"
   ]
  },
  {
   "cell_type": "code",
   "execution_count": 11,
   "id": "8ba36fa7",
   "metadata": {},
   "outputs": [
    {
     "data": {
      "text/plain": [
       "{'answer': ' The president thanked Justice Breyer for his service.',\n",
       " 'sources': '27-pl'}"
      ]
     },
     "execution_count": 11,
     "metadata": {},
     "output_type": "execute_result"
    }
   ],
   "source": [
    "chain({\"question\": \"What did the president say about Justice Breyer\"}, return_only_outputs=True)"
   ]
  },
  {
   "cell_type": "code",
   "execution_count": null,
   "id": "980fae3b",
   "metadata": {},
   "outputs": [],
   "source": []
  }
 ],
 "metadata": {
  "kernelspec": {
   "display_name": "Python 3 (ipykernel)",
   "language": "python",
   "name": "python3"
  },
  "language_info": {
   "codemirror_mode": {
    "name": "ipython",
    "version": 3
   },
   "file_extension": ".py",
   "mimetype": "text/x-python",
   "name": "python",
   "nbconvert_exporter": "python",
   "pygments_lexer": "ipython3",
   "version": "3.10.8"
  }
 },
 "nbformat": 4,
 "nbformat_minor": 5
}
