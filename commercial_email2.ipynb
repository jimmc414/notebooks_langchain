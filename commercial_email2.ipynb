{
 "cells": [
  {
   "cell_type": "code",
   "execution_count": 2,
   "metadata": {},
   "outputs": [],
   "source": [
    "from langchain import OpenAI, SerpAPIWrapper\n",
    "from langchain.agents import initialize_agent, Tool\n",
    "from langchain.chains import LLMChain\n",
    "from langchain.prompts import PromptTemplate"
   ]
  },
  {
   "cell_type": "code",
   "execution_count": 34,
   "metadata": {},
   "outputs": [],
   "source": [
    "llm = OpenAI(temperature=0.1)  # sem criatividade\n",
    "search = SerpAPIWrapper()\n",
    "tools = [\n",
    "    Tool(\n",
    "        name=\"Intermediate Answer\",\n",
    "        func=search.run\n",
    "    )\n",
    "]\n",
    "self_ask_with_search = initialize_agent(tools, llm, agent=\"self-ask-with-search\", verbose=True,return_intermediate_steps=True)"
   ]
  },
  {
   "cell_type": "code",
   "execution_count": 1,
   "metadata": {},
   "outputs": [],
   "source": [
    "contact = 'Bruno Machado'\n",
    "client  = 'Guruja Concursos'\n",
    "\n"
   ]
  },
  {
   "attachments": {},
   "cell_type": "markdown",
   "metadata": {},
   "source": [
    "## OBTEM DADOS DA EMPRESA CLIENTE"
   ]
  },
  {
   "cell_type": "code",
   "execution_count": 43,
   "metadata": {},
   "outputs": [
    {
     "data": {
      "text/plain": [
       "'\\n\\nGuruja Concursos is an online platform that provides students with access to a wide range of educational resources and tools to help them prepare for competitive exams. The platform offers a variety of courses, practice tests, and other resources to help students prepare for exams such as the ENEM, Vestibular, and OAB. The platform also provides personalized guidance and support to help students reach their goals. Guruja Concursos also offers a variety of discounts and promotions to help students save money on their studies.'"
      ]
     },
     "execution_count": 43,
     "metadata": {},
     "output_type": "execute_result"
    }
   ],
   "source": [
    "prompt_client = PromptTemplate(\n",
    "    input_variables=[\"client\"],\n",
    "    template=\"Search detailed information about this {client}\",\n",
    ")\n",
    "\n",
    "\n",
    "\n",
    "chain = LLMChain(llm=llm, prompt=prompt_client)\n",
    "results_client = chain.run(client)\n",
    "results_client"
   ]
  },
  {
   "attachments": {},
   "cell_type": "markdown",
   "metadata": {},
   "source": [
    "## OBTEM DADOS DA PESSOA DE CONTATO NO CLIENTE"
   ]
  },
  {
   "cell_type": "code",
   "execution_count": 44,
   "metadata": {},
   "outputs": [
    {
     "name": "stdout",
     "output_type": "stream",
     "text": [
      "\n",
      "Bruno Machado is a lawyer and legal advisor at Guruja Concursos, a Brazilian company that specializes in providing legal advice and services related to public tenders and public procurement. He has a degree in Law from the University of São Paulo and has been working at Guruja Concursos since 2011. He is an expert in public tenders and public procurement, and has extensive experience in the field. He is also a member of the Brazilian Bar Association and the Brazilian Institute of Public Procurement. He is highly knowledgeable in the areas of public tenders, public procurement, and public law.\n"
     ]
    }
   ],
   "source": [
    "template = \"\"\"Search detailed information about this contact that works at this client\n",
    "contact   : {contact}\n",
    "client    : {client}\n",
    "\"\"\"\n",
    "prompt_contact = PromptTemplate(\n",
    "    input_variables=['contact','client'],\n",
    "    template=template,\n",
    ")\n",
    "\n",
    "chain = LLMChain(llm=llm, prompt=prompt_contact)\n",
    "results_contact = chain({\"contact\": contact,\"client\":client})\n",
    "print(results_contact['text'])"
   ]
  },
  {
   "cell_type": "code",
   "execution_count": 45,
   "metadata": {},
   "outputs": [],
   "source": [
    "recipient = results_client + results_contact['text']"
   ]
  },
  {
   "cell_type": "code",
   "execution_count": 46,
   "metadata": {},
   "outputs": [],
   "source": [
    "luby_text = \"\"\"\n",
    "With almost 10 years of direct experience with US-based cross industry clients, Luby has been focusing on supporting Banks, FinTechs and other Financial Institutions discover, design, engineer, unleash and evolve their digital solutions.\n",
    "\n",
    "We have been assisting these clients in staying ahead of their old-fashioned competitors by combining our deep fintech domain expertise with a mature development processes, on top of a flexible, customer-oriented and data-driven approach.\n",
    "\"\"\""
   ]
  },
  {
   "cell_type": "code",
   "execution_count": 47,
   "metadata": {},
   "outputs": [],
   "source": [
    "template = \"\"\"Write an email offering software devolpement services for the recipient adding luby_prompt addiitonal information\"\n",
    "    recipient   : {recipient}\n",
    "    luby_text : {luby_text}\n",
    "    \"\"\"\n",
    "prompt = PromptTemplate(\n",
    "        input_variables=['recipient','luby_text'],\n",
    "        template=template,\n",
    "    )\n",
    "chain = LLMChain(llm=llm, prompt=prompt)\n",
    "final = chain({\"recipient\": recipient,\"luby_text\":luby_text})"
   ]
  },
  {
   "cell_type": "code",
   "execution_count": 48,
   "metadata": {},
   "outputs": [
    {
     "name": "stdout",
     "output_type": "stream",
     "text": [
      "\n",
      "Dear [Recipient],\n",
      "\n",
      "We are writing to offer our software development services to Guruja Concursos. At Luby, we specialize in providing software development services to financial institutions, banks, and fintechs. We have extensive experience in developing digital solutions that are tailored to the specific needs of our clients.\n",
      "\n",
      "Our team of experienced developers is well-versed in the latest technologies and can provide you with the best solutions for your business. We also have a deep understanding of the financial industry and can help you stay ahead of your competitors.\n",
      "\n",
      "We understand that Guruja Concursos is a Brazilian company that specializes in providing legal advice and services related to public tenders and public procurement. We believe that our software development services can help you achieve your goals and provide you with the best solutions for your business.\n",
      "\n",
      "If you would like to learn more about our services, please do not hesitate to contact us. We look forward to hearing from you.\n",
      "\n",
      "Sincerely,\n",
      "[Your Name]\n"
     ]
    }
   ],
   "source": [
    "print(final['text'])"
   ]
  }
 ],
 "metadata": {
  "kernelspec": {
   "display_name": "nlp",
   "language": "python",
   "name": "python3"
  },
  "language_info": {
   "codemirror_mode": {
    "name": "ipython",
    "version": 3
   },
   "file_extension": ".py",
   "mimetype": "text/x-python",
   "name": "python",
   "nbconvert_exporter": "python",
   "pygments_lexer": "ipython3",
   "version": "3.10.8 (main, Nov 24 2022, 14:13:03) [GCC 11.2.0]"
  },
  "orig_nbformat": 4,
  "vscode": {
   "interpreter": {
    "hash": "4dcacae4b209be26253afbad938ed606d8633cbdbf64a21e50a3f0fad9ec4373"
   }
  }
 },
 "nbformat": 4,
 "nbformat_minor": 2
}
