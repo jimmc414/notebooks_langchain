{
  "cells": [
    {
      "cell_type": "code",
      "execution_count": 1,
      "metadata": {
        "id": "T3ggVFrL0FWE"
      },
      "outputs": [],
      "source": [
        "#!pip install openai\n",
        "#!pip install langchain==0.0.29"
      ]
    },
    {
      "cell_type": "code",
      "execution_count": 1,
      "metadata": {
        "id": "_sHMIkD80KIx"
      },
      "outputs": [],
      "source": [
        "import sys\n",
        "sys.path.append('../')\n",
        "\n",
        "from langchain.chains import APIChain\n",
        "from langchain import OpenAI"
      ]
    },
    {
      "cell_type": "code",
      "execution_count": 2,
      "metadata": {
        "id": "Wfns6AhE1BGs"
      },
      "outputs": [],
      "source": [
        "docs = \"\"\"BASE URL: https://api.open-meteo.com/\n",
        "\n",
        "API Documentation\n",
        "The API endpoint /v1/forecast accepts a geographical coordinate, a list of weather variables and responds with a JSON hourly weather forecast for 7 days. Time always starts at 0:00 today and contains 168 hours. All URL parameters are listed below:\n",
        "\n",
        "Parameter\tFormat\tRequired\tDefault\tDescription\n",
        "latitude, longitude\tFloating point\tYes\t\tGeographical WGS84 coordinate of the location\n",
        "hourly\tString array\tNo\t\tA list of weather variables which should be returned. Values can be comma separated, or multiple &hourly= parameter in the URL can be used.\n",
        "daily\tString array\tNo\t\tA list of daily weather variable aggregations which should be returned. Values can be comma separated, or multiple &daily= parameter in the URL can be used. If daily weather variables are specified, parameter timezone is required.\n",
        "current_weather\tBool\tNo\tfalse\tInclude current weather conditions in the JSON output.\n",
        "temperature_unit\tString\tNo\tcelsius\tIf fahrenheit is set, all temperature values are converted to Fahrenheit.\n",
        "windspeed_unit\tString\tNo\tkmh\tOther wind speed speed units: ms, mph and kn\n",
        "precipitation_unit\tString\tNo\tmm\tOther precipitation amount units: inch\n",
        "timeformat\tString\tNo\tiso8601\tIf format unixtime is selected, all time values are returned in UNIX epoch time in seconds. Please note that all timestamp are in GMT+0! For daily values with unix timestamps, please apply utc_offset_seconds again to get the correct date.\n",
        "timezone\tString\tNo\tGMT\tIf timezone is set, all timestamps are returned as local-time and data is returned starting at 00:00 local-time. Any time zone name from the time zone database is supported. If auto is set as a time zone, the coordinates will be automatically resolved to the local time zone.\n",
        "past_days\tInteger (0-2)\tNo\t0\tIf past_days is set, yesterday or the day before yesterday data are also returned.\n",
        "start_date\n",
        "end_date\tString (yyyy-mm-dd)\tNo\t\tThe time interval to get weather data. A day must be specified as an ISO8601 date (e.g. 2022-06-30).\n",
        "models\tString array\tNo\tauto\tManually select one or more weather models. Per default, the best suitable weather models will be combined.\n",
        "\n",
        "Hourly Parameter Definition\n",
        "The parameter &hourly= accepts the following values. Most weather variables are given as an instantaneous value for the indicated hour. Some variables like precipitation are calculated from the preceding hour as an average or sum.\n",
        "\n",
        "Variable\tValid time\tUnit\tDescription\n",
        "temperature_2m\tInstant\t°C (°F)\tAir temperature at 2 meters above ground\n",
        "snowfall\tPreceding hour sum\tcm (inch)\tSnowfall amount of the preceding hour in centimeters. For the water equivalent in millimeter, divide by 7. E.g. 7 cm snow = 10 mm precipitation water equivalent\n",
        "rain\tPreceding hour sum\tmm (inch)\tRain from large scale weather systems of the preceding hour in millimeter\n",
        "showers\tPreceding hour sum\tmm (inch)\tShowers from convective precipitation in millimeters from the preceding hour\n",
        "weathercode\tInstant\tWMO code\tWeather condition as a numeric code. Follow WMO weather interpretation codes. See table below for details.\n",
        "snow_depth\tInstant\tmeters\tSnow depth on the ground\n",
        "freezinglevel_height\tInstant\tmeters\tAltitude above sea level of the 0°C level\n",
        "visibility\tInstant\tmeters\tViewing distance in meters. Influenced by low clouds, humidity and aerosols. Maximum visibility is approximately 24 km.\"\"\""
      ]
    },
    {
      "cell_type": "code",
      "execution_count": 3,
      "metadata": {
        "id": "CNep6xcg1RsR"
      },
      "outputs": [],
      "source": [
        "llm = OpenAI(temperature=0)"
      ]
    },
    {
      "cell_type": "code",
      "execution_count": 4,
      "metadata": {
        "id": "f_HGYkam1T9s"
      },
      "outputs": [],
      "source": [
        "chain = APIChain.from_llm_and_api_docs(llm, docs, verbose=True)"
      ]
    },
    {
      "cell_type": "code",
      "execution_count": 5,
      "metadata": {},
      "outputs": [
        {
          "data": {
            "text/plain": [
              "{'memory': None,\n",
              " 'callback_manager': {'ignore_llm': False,\n",
              "  'ignore_chain': False,\n",
              "  'ignore_agent': False},\n",
              " 'verbose': False,\n",
              " 'prompt': {'input_variables': ['api_docs', 'question'],\n",
              "  'output_parser': None,\n",
              "  'template': 'You are given the below API Documentation:\\n\\n{api_docs}\\n\\nUsing this documentation, generate the full API url to call for answering this question: {question}\\n\\nAPI url: ',\n",
              "  'template_format': 'f-string'},\n",
              " 'llm': {'cache': None,\n",
              "  'verbose': False,\n",
              "  'callback_manager': {'ignore_llm': False,\n",
              "   'ignore_chain': False,\n",
              "   'ignore_agent': False},\n",
              "  'client': openai.api_resources.completion.Completion,\n",
              "  'model_name': 'text-davinci-003',\n",
              "  'temperature': 0.0,\n",
              "  'max_tokens': 256,\n",
              "  'top_p': 1,\n",
              "  'frequency_penalty': 0,\n",
              "  'presence_penalty': 0,\n",
              "  'n': 1,\n",
              "  'best_of': 1,\n",
              "  'model_kwargs': {},\n",
              "  'openai_api_key': None,\n",
              "  'batch_size': 20,\n",
              "  'request_timeout': None,\n",
              "  'logit_bias': {}},\n",
              " 'output_key': 'text'}"
            ]
          },
          "execution_count": 5,
          "metadata": {},
          "output_type": "execute_result"
        }
      ],
      "source": [
        "chain.api_request_chain.dict()"
      ]
    },
    {
      "cell_type": "code",
      "execution_count": 6,
      "metadata": {},
      "outputs": [
        {
          "data": {
            "text/plain": [
              "{'memory': None,\n",
              " 'callback_manager': {'ignore_llm': False,\n",
              "  'ignore_chain': False,\n",
              "  'ignore_agent': False},\n",
              " 'verbose': False,\n",
              " 'prompt': {'input_variables': ['api_docs',\n",
              "   'question',\n",
              "   'api_url',\n",
              "   'api_response'],\n",
              "  'output_parser': None,\n",
              "  'template': 'You are given the below API Documentation:\\n\\n{api_docs}\\n\\nUsing this documentation, generate the full API url to call for answering this question: {question}\\n\\nAPI url:  {api_url}\\n\\nHere is the response from the API:\\n\\n{api_response}\\n\\nSummarize this response to answer the original question.\\n\\nSummary:',\n",
              "  'template_format': 'f-string'},\n",
              " 'llm': {'cache': None,\n",
              "  'verbose': False,\n",
              "  'callback_manager': {'ignore_llm': False,\n",
              "   'ignore_chain': False,\n",
              "   'ignore_agent': False},\n",
              "  'client': openai.api_resources.completion.Completion,\n",
              "  'model_name': 'text-davinci-003',\n",
              "  'temperature': 0.0,\n",
              "  'max_tokens': 256,\n",
              "  'top_p': 1,\n",
              "  'frequency_penalty': 0,\n",
              "  'presence_penalty': 0,\n",
              "  'n': 1,\n",
              "  'best_of': 1,\n",
              "  'model_kwargs': {},\n",
              "  'openai_api_key': None,\n",
              "  'batch_size': 20,\n",
              "  'request_timeout': None,\n",
              "  'logit_bias': {}},\n",
              " 'output_key': 'text'}"
            ]
          },
          "execution_count": 6,
          "metadata": {},
          "output_type": "execute_result"
        }
      ],
      "source": [
        "chain.api_answer_chain.dict()"
      ]
    },
    {
      "cell_type": "code",
      "execution_count": 7,
      "metadata": {
        "id": "6RT38WIn1ZBC"
      },
      "outputs": [
        {
          "name": "stdout",
          "output_type": "stream",
          "text": [
            "\n",
            "\n",
            "\u001b[1m> Entering new APIChain chain...\u001b[0m\n",
            "\u001b[32;1m\u001b[1;3m https://api.open-meteo.com/v1/forecast?latitude=37.7749&longitude=-122.4194&hourly=snowfall\u001b[0m\n",
            "\u001b[33;1m\u001b[1;3m{\"latitude\":37.763283,\"longitude\":-122.41286,\"generationtime_ms\":0.37598609924316406,\"utc_offset_seconds\":0,\"timezone\":\"GMT\",\"timezone_abbreviation\":\"GMT\",\"elevation\":18.0,\"hourly_units\":{\"time\":\"iso8601\",\"snowfall\":\"cm\"},\"hourly\":{\"time\":[\"2023-01-10T00:00\",\"2023-01-10T01:00\",\"2023-01-10T02:00\",\"2023-01-10T03:00\",\"2023-01-10T04:00\",\"2023-01-10T05:00\",\"2023-01-10T06:00\",\"2023-01-10T07:00\",\"2023-01-10T08:00\",\"2023-01-10T09:00\",\"2023-01-10T10:00\",\"2023-01-10T11:00\",\"2023-01-10T12:00\",\"2023-01-10T13:00\",\"2023-01-10T14:00\",\"2023-01-10T15:00\",\"2023-01-10T16:00\",\"2023-01-10T17:00\",\"2023-01-10T18:00\",\"2023-01-10T19:00\",\"2023-01-10T20:00\",\"2023-01-10T21:00\",\"2023-01-10T22:00\",\"2023-01-10T23:00\",\"2023-01-11T00:00\",\"2023-01-11T01:00\",\"2023-01-11T02:00\",\"2023-01-11T03:00\",\"2023-01-11T04:00\",\"2023-01-11T05:00\",\"2023-01-11T06:00\",\"2023-01-11T07:00\",\"2023-01-11T08:00\",\"2023-01-11T09:00\",\"2023-01-11T10:00\",\"2023-01-11T11:00\",\"2023-01-11T12:00\",\"2023-01-11T13:00\",\"2023-01-11T14:00\",\"2023-01-11T15:00\",\"2023-01-11T16:00\",\"2023-01-11T17:00\",\"2023-01-11T18:00\",\"2023-01-11T19:00\",\"2023-01-11T20:00\",\"2023-01-11T21:00\",\"2023-01-11T22:00\",\"2023-01-11T23:00\",\"2023-01-12T00:00\",\"2023-01-12T01:00\",\"2023-01-12T02:00\",\"2023-01-12T03:00\",\"2023-01-12T04:00\",\"2023-01-12T05:00\",\"2023-01-12T06:00\",\"2023-01-12T07:00\",\"2023-01-12T08:00\",\"2023-01-12T09:00\",\"2023-01-12T10:00\",\"2023-01-12T11:00\",\"2023-01-12T12:00\",\"2023-01-12T13:00\",\"2023-01-12T14:00\",\"2023-01-12T15:00\",\"2023-01-12T16:00\",\"2023-01-12T17:00\",\"2023-01-12T18:00\",\"2023-01-12T19:00\",\"2023-01-12T20:00\",\"2023-01-12T21:00\",\"2023-01-12T22:00\",\"2023-01-12T23:00\",\"2023-01-13T00:00\",\"2023-01-13T01:00\",\"2023-01-13T02:00\",\"2023-01-13T03:00\",\"2023-01-13T04:00\",\"2023-01-13T05:00\",\"2023-01-13T06:00\",\"2023-01-13T07:00\",\"2023-01-13T08:00\",\"2023-01-13T09:00\",\"2023-01-13T10:00\",\"2023-01-13T11:00\",\"2023-01-13T12:00\",\"2023-01-13T13:00\",\"2023-01-13T14:00\",\"2023-01-13T15:00\",\"2023-01-13T16:00\",\"2023-01-13T17:00\",\"2023-01-13T18:00\",\"2023-01-13T19:00\",\"2023-01-13T20:00\",\"2023-01-13T21:00\",\"2023-01-13T22:00\",\"2023-01-13T23:00\",\"2023-01-14T00:00\",\"2023-01-14T01:00\",\"2023-01-14T02:00\",\"2023-01-14T03:00\",\"2023-01-14T04:00\",\"2023-01-14T05:00\",\"2023-01-14T06:00\",\"2023-01-14T07:00\",\"2023-01-14T08:00\",\"2023-01-14T09:00\",\"2023-01-14T10:00\",\"2023-01-14T11:00\",\"2023-01-14T12:00\",\"2023-01-14T13:00\",\"2023-01-14T14:00\",\"2023-01-14T15:00\",\"2023-01-14T16:00\",\"2023-01-14T17:00\",\"2023-01-14T18:00\",\"2023-01-14T19:00\",\"2023-01-14T20:00\",\"2023-01-14T21:00\",\"2023-01-14T22:00\",\"2023-01-14T23:00\",\"2023-01-15T00:00\",\"2023-01-15T01:00\",\"2023-01-15T02:00\",\"2023-01-15T03:00\",\"2023-01-15T04:00\",\"2023-01-15T05:00\",\"2023-01-15T06:00\",\"2023-01-15T07:00\",\"2023-01-15T08:00\",\"2023-01-15T09:00\",\"2023-01-15T10:00\",\"2023-01-15T11:00\",\"2023-01-15T12:00\",\"2023-01-15T13:00\",\"2023-01-15T14:00\",\"2023-01-15T15:00\",\"2023-01-15T16:00\",\"2023-01-15T17:00\",\"2023-01-15T18:00\",\"2023-01-15T19:00\",\"2023-01-15T20:00\",\"2023-01-15T21:00\",\"2023-01-15T22:00\",\"2023-01-15T23:00\",\"2023-01-16T00:00\",\"2023-01-16T01:00\",\"2023-01-16T02:00\",\"2023-01-16T03:00\",\"2023-01-16T04:00\",\"2023-01-16T05:00\",\"2023-01-16T06:00\",\"2023-01-16T07:00\",\"2023-01-16T08:00\",\"2023-01-16T09:00\",\"2023-01-16T10:00\",\"2023-01-16T11:00\",\"2023-01-16T12:00\",\"2023-01-16T13:00\",\"2023-01-16T14:00\",\"2023-01-16T15:00\",\"2023-01-16T16:00\",\"2023-01-16T17:00\",\"2023-01-16T18:00\",\"2023-01-16T19:00\",\"2023-01-16T20:00\",\"2023-01-16T21:00\",\"2023-01-16T22:00\",\"2023-01-16T23:00\"],\"snowfall\":[0.00,0.00,0.00,0.00,0.00,0.00,0.00,0.00,0.00,0.00,0.00,0.00,0.00,0.00,0.00,0.00,0.00,0.00,0.00,0.00,0.00,0.00,0.00,0.00,0.00,0.00,0.00,0.00,0.00,0.00,0.00,0.00,0.00,0.00,0.00,0.00,0.00,0.00,0.00,0.00,0.00,0.00,0.00,0.00,0.00,0.00,0.00,0.00,0.00,0.00,0.00,0.00,0.00,0.00,0.00,0.00,0.00,0.00,0.00,0.00,0.00,0.00,0.00,0.00,0.00,0.00,0.00,0.00,0.00,0.00,0.00,0.00,0.00,0.00,0.00,0.00,0.00,0.00,0.00,0.00,0.00,0.00,0.00,0.00,0.00,0.00,0.00,0.00,0.00,0.00,0.00,0.00,0.00,0.00,0.00,0.00,0.00,0.00,0.00,0.00,0.00,0.00,0.00,0.00,0.00,0.00,0.00,0.00,0.00,0.00,0.00,0.00,0.00,0.00,0.00,0.00,0.00,0.00,0.00,0.00,0.00,0.00,0.00,0.00,0.00,0.00,0.00,0.00,0.00,0.00,0.00,0.00,0.00,0.00,0.00,0.00,0.00,0.00,0.00,0.00,0.00,0.00,0.00,0.00,0.00,0.00,0.00,0.00,0.00,0.00,0.00,0.00,0.00,0.00,0.00,0.00,0.00,0.00,0.00,0.00,0.00,0.00,0.00,0.00,0.00,0.00,0.00,0.00]}}\u001b[0m\n",
            "\n",
            "\u001b[1m> Finished chain.\u001b[0m\n"
          ]
        },
        {
          "data": {
            "text/plain": [
              "' It did not snow in SF today (January 10th, 2023).'"
            ]
          },
          "execution_count": 7,
          "metadata": {},
          "output_type": "execute_result"
        }
      ],
      "source": [
        "chain.run(\"How much did it snow in SF today?\")"
      ]
    },
    {
      "cell_type": "code",
      "execution_count": null,
      "metadata": {
        "id": "cXiXlR_C2Jgy"
      },
      "outputs": [],
      "source": []
    }
  ],
  "metadata": {
    "colab": {
      "provenance": []
    },
    "kernelspec": {
      "display_name": "nlp",
      "language": "python",
      "name": "python3"
    },
    "language_info": {
      "codemirror_mode": {
        "name": "ipython",
        "version": 3
      },
      "file_extension": ".py",
      "mimetype": "text/x-python",
      "name": "python",
      "nbconvert_exporter": "python",
      "pygments_lexer": "ipython3",
      "version": "3.10.8"
    },
    "vscode": {
      "interpreter": {
        "hash": "4dcacae4b209be26253afbad938ed606d8633cbdbf64a21e50a3f0fad9ec4373"
      }
    }
  },
  "nbformat": 4,
  "nbformat_minor": 0
}
