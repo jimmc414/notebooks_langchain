{
 "cells": [
  {
   "cell_type": "code",
   "execution_count": 1,
   "metadata": {},
   "outputs": [],
   "source": [
    "from langchain import OpenAI, SerpAPIWrapper\n",
    "from langchain.agents import initialize_agent, Tool\n",
    "from langchain.chains import LLMChain\n",
    "from langchain.prompts import PromptTemplate\n",
    "\n"
   ]
  },
  {
   "attachments": {},
   "cell_type": "markdown",
   "metadata": {},
   "source": [
    "# USO DE SELF-ASK-WITH-SEARCH"
   ]
  },
  {
   "cell_type": "code",
   "execution_count": 18,
   "metadata": {},
   "outputs": [],
   "source": [
    "llm = OpenAI(temperature=0)\n",
    "search = SerpAPIWrapper()\n",
    "tools = [\n",
    "    Tool(\n",
    "        name=\"Intermediate Answer\",\n",
    "        func=search.run\n",
    "    )\n",
    "]\n",
    "self_ask_with_search = initialize_agent(tools, llm, agent=\"self-ask-with-search\")"
   ]
  },
  {
   "cell_type": "code",
   "execution_count": 30,
   "metadata": {},
   "outputs": [],
   "source": [
    "client = 'Guruja Concursos'\n",
    "#client = 'cartos.com.br'\n",
    "client_contact = 'Bruno Machado'"
   ]
  },
  {
   "cell_type": "code",
   "execution_count": 38,
   "metadata": {},
   "outputs": [
    {
     "data": {
      "text/plain": [
       "'What are  the detailed business activities of  {client} ?'"
      ]
     },
     "execution_count": 38,
     "metadata": {},
     "output_type": "execute_result"
    }
   ],
   "source": [
    "texto = 'What are  the detailed business activities of  {client} ?'\n",
    "texto"
   ]
  },
  {
   "cell_type": "code",
   "execution_count": 37,
   "metadata": {},
   "outputs": [
    {
     "data": {
      "text/plain": [
       "'Guruja Concursos provides online courses and study materials to help students prepare for competitive exams. They also offer personalized study plans and one-on-one tutoring sessions.'"
      ]
     },
     "execution_count": 37,
     "metadata": {},
     "output_type": "execute_result"
    }
   ],
   "source": [
    "response = self_ask_with_search(texto)\n",
    "response['output']"
   ]
  },
  {
   "cell_type": "code",
   "execution_count": 25,
   "metadata": {},
   "outputs": [],
   "source": [
    "import json\n",
    "#print(json.dumps(response[\"intermediate_steps\"], indent=2))"
   ]
  },
  {
   "attachments": {},
   "cell_type": "markdown",
   "metadata": {},
   "source": [
    "# USO DE SERPAPI ONLY"
   ]
  },
  {
   "cell_type": "code",
   "execution_count": 32,
   "metadata": {},
   "outputs": [
    {
     "name": "stdout",
     "output_type": "stream",
     "text": [
      "Search for   guruja.com.br company in Brazil\n"
     ]
    }
   ],
   "source": [
    "\n",
    "client = 'guruja.com.br'\n",
    "template=f\"Search for   {client} company in Brazil\"\n",
    "print(template)"
   ]
  },
  {
   "cell_type": "code",
   "execution_count": 33,
   "metadata": {},
   "outputs": [
    {
     "data": {
      "text/plain": [
       "'The company operates in management of ports and terminals. Headquarters Av Santos Dumont Tefer, 1, Sitio Paecara Guaruja; Sao Paulo; Postal Code: 11460-006.'"
      ]
     },
     "execution_count": 33,
     "metadata": {},
     "output_type": "execute_result"
    }
   ],
   "source": [
    "from langchain.serpapi import SerpAPIWrapper\n",
    "\n",
    "chain = SerpAPIWrapper()\n",
    "chain.run(template)"
   ]
  },
  {
   "attachments": {},
   "cell_type": "markdown",
   "metadata": {},
   "source": [
    "# USO DE LLMCHAIN"
   ]
  },
  {
   "cell_type": "code",
   "execution_count": 7,
   "metadata": {},
   "outputs": [
    {
     "data": {
      "text/plain": [
       "'\\n\\nGuruja.com.br is an online marketplace in Brazil that connects buyers and sellers of used and new products. The company was founded in 2011 and is headquartered in São Paulo. The company offers a wide range of products, including electronics, home appliances, furniture, clothing, and more. The company also provides services such as delivery, payment, and customer support. Guruja.com.br has a network of more than 1,000 stores across Brazil and is one of the largest online marketplaces in the country. The company has a mobile app that allows customers to shop on the go.'"
      ]
     },
     "execution_count": 7,
     "metadata": {},
     "output_type": "execute_result"
    }
   ],
   "source": [
    "llm = OpenAI(temperature=0)\n",
    "client = 'guruja.com.br'\n",
    "\n",
    "prompt_client = PromptTemplate(\n",
    "    input_variables=[\"client\"],\n",
    "    template=\"Search for detailed information about this {client} in Brazil\",\n",
    ")\n",
    "\n",
    "chain = LLMChain(llm=llm, prompt=prompt_client)\n",
    "results_client = chain.run(client)\n",
    "results_client"
   ]
  },
  {
   "attachments": {},
   "cell_type": "markdown",
   "metadata": {},
   "source": [
    "# transformers-openai-api  USA INTERFACE DO OPENAI , MAS POR TRAS LANÇAMOS OUTRO MODELO\n",
    "instalado em env nlp - executar de ~,  transformers-openai-api  --- para lançar o LM servidor\n",
    "abaixo interface client API\n"
   ]
  },
  {
   "cell_type": "code",
   "execution_count": 87,
   "metadata": {},
   "outputs": [],
   "source": [
    "prompt =\"write a short joke\\n\"\n",
    "prompt = 'tell me how to build a house'\n",
    "prompt = \"translate English to German: That is good\"\n",
    "prompt = \"translate English to French: That is good\""
   ]
  },
  {
   "cell_type": "code",
   "execution_count": 88,
   "metadata": {},
   "outputs": [
    {
     "data": {
      "text/plain": [
       "\"C'est bien.\""
      ]
     },
     "execution_count": 88,
     "metadata": {},
     "output_type": "execute_result"
    }
   ],
   "source": [
    "\n",
    "import openai\n",
    "import os\n",
    "os.environ['OPENAI_API_BASE'] = \"http://127.0.0.1:5000/v1\"\n",
    "\n",
    "#openai.api_key = os.getenv(\"OPENAI_API_KEY\")\n",
    "openai.api_base = \"http://127.0.0.1:5000/v1\"\n",
    "\n",
    "response = openai.Completion.create(\n",
    "  model=\"text-davinci-003\",\n",
    "  prompt=prompt,\n",
    "  temperature=0.7,\n",
    "  max_tokens=256,\n",
    "  top_p=1,\n",
    "  frequency_penalty=0,\n",
    "  presence_penalty=0\n",
    ")\n",
    "response['choices'][0]['text']"
   ]
  }
 ],
 "metadata": {
  "kernelspec": {
   "display_name": "nlp",
   "language": "python",
   "name": "python3"
  },
  "language_info": {
   "codemirror_mode": {
    "name": "ipython",
    "version": 3
   },
   "file_extension": ".py",
   "mimetype": "text/x-python",
   "name": "python",
   "nbconvert_exporter": "python",
   "pygments_lexer": "ipython3",
   "version": "3.10.8"
  },
  "orig_nbformat": 4,
  "vscode": {
   "interpreter": {
    "hash": "4dcacae4b209be26253afbad938ed606d8633cbdbf64a21e50a3f0fad9ec4373"
   }
  }
 },
 "nbformat": 4,
 "nbformat_minor": 2
}
