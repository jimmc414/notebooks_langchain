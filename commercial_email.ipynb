{
 "cells": [
  {
   "cell_type": "code",
   "execution_count": 1,
   "metadata": {},
   "outputs": [],
   "source": [
    "from langchain import OpenAI, SerpAPIWrapper\n",
    "from langchain.agents import initialize_agent, Tool\n",
    "from langchain.chains import LLMChain\n",
    "from langchain.prompts import PromptTemplate\n",
    "\n"
   ]
  },
  {
   "cell_type": "code",
   "execution_count": 54,
   "metadata": {},
   "outputs": [],
   "source": [
    "llm = OpenAI(temperature=0.7)\n",
    "search = SerpAPIWrapper()\n",
    "tools = [\n",
    "    Tool(\n",
    "        name=\"Intermediate Answer\",\n",
    "        func=search.run\n",
    "    )\n",
    "]\n",
    "self_ask_with_search = initialize_agent(tools, llm, agent=\"self-ask-with-search\", verbose=True,return_intermediate_steps=True)"
   ]
  },
  {
   "cell_type": "code",
   "execution_count": 3,
   "metadata": {},
   "outputs": [],
   "source": [
    "#res = self_ask_with_search.agent\n",
    "#print(res.llm_chain.prompt.template)"
   ]
  },
  {
   "cell_type": "code",
   "execution_count": 44,
   "metadata": {},
   "outputs": [],
   "source": [
    "luby_text = \"\"\"\n",
    "With almost 10 years of direct experience with US-based cross industry clients, Luby has been focusing on supporting Banks, FinTechs and other Financial Institutions discover, design, engineer, unleash and evolve their digital solutions.\n",
    "\n",
    "We have been assisting these clients in staying ahead of their old-fashioned competitors by combining our deep fintech domain expertise with a mature development processes, on top of a flexible, customer-oriented and data-driven approach.\n",
    "\"\"\"\n",
    "\n",
    "client = \"guruja.com.br\"\n",
    "client_contact = \"Bruno Machado\""
   ]
  },
  {
   "cell_type": "code",
   "execution_count": 45,
   "metadata": {},
   "outputs": [
    {
     "data": {
      "text/plain": [
       "'Search for additional information about a company whose site is named guruja.com.br in Brazil and Bruno Machado that works there'"
      ]
     },
     "execution_count": 45,
     "metadata": {},
     "output_type": "execute_result"
    }
   ],
   "source": [
    "texto = f'Search for additional information about a company whose site is named {client} in Brazil and {client_contact} that works there'\n",
    "texto"
   ]
  },
  {
   "cell_type": "code",
   "execution_count": 47,
   "metadata": {},
   "outputs": [
    {
     "name": "stdout",
     "output_type": "stream",
     "text": [
      "\n",
      "\n",
      "Bruno Machado is a Brazilian professional footballer who plays as a midfielder for Portuguese club Vitória de Setúbal. He began his career with Brazilian club Atlético Paranaense in 2011, before moving to Portuguese club Vitória de Setúbal in 2014. He has since made over 100 appearances for the club, scoring 11 goals. He has also represented Brazil at the U-20 level.\n"
     ]
    }
   ],
   "source": [
    "prompt_contact = PromptTemplate(\n",
    "    input_variables=[\"contact\"],\n",
    "    template=\"Search detailed information about the person named {contact} \",\n",
    ")\n",
    "\n",
    "chain = LLMChain(llm=llm, prompt=prompt_contact)\n",
    "results_client = chain({\"contact\": client_contact,\"client\":client})\n",
    "print(results_client['text'])"
   ]
  },
  {
   "cell_type": "code",
   "execution_count": 15,
   "metadata": {},
   "outputs": [
    {
     "data": {
      "text/plain": [
       "'Search information about {client}?'"
      ]
     },
     "execution_count": 15,
     "metadata": {},
     "output_type": "execute_result"
    }
   ],
   "source": [
    "prompt_company.template"
   ]
  },
  {
   "cell_type": "code",
   "execution_count": 22,
   "metadata": {},
   "outputs": [
    {
     "data": {
      "text/plain": [
       "'Search information about company whose URL is guruja.com.br'"
      ]
     },
     "execution_count": 22,
     "metadata": {},
     "output_type": "execute_result"
    }
   ],
   "source": [
    "client = 'guruja.com.br'\n",
    "procura_company = f'Search information about company whose URL is {client}'\n",
    "procura_company"
   ]
  },
  {
   "cell_type": "code",
   "execution_count": 9,
   "metadata": {},
   "outputs": [
    {
     "name": "stdout",
     "output_type": "stream",
     "text": [
      "\n",
      "\n",
      "Guruja.com.br is an online tutorial platform that helps users learn web development, software engineering, and web design courses from top experts from around the world. It was founded in 2013 and is based in Brazil. The platform provides courses in HTML and CSS, JavaScript, Git and GitHub, Node.js, React.js, PHP, and Python. It also offers courses in Web Design, UX/UI Design and Digital Marketing. Guruja.com.br offers both free and paid courses, with the premium subscription allowing access to all content on the platform. The platform also offers coaching services to help students reach their goals.\n"
     ]
    }
   ],
   "source": [
    "prompt_company = PromptTemplate(\n",
    "    input_variables=[\"client\"],\n",
    "    template=\"Search information about {client}?\",\n",
    ")\n",
    "chain = LLMChain(llm=llm, prompt=prompt_company)\n",
    "results_company = chain.run(client)\n",
    "print(results_company)"
   ]
  },
  {
   "cell_type": "code",
   "execution_count": 14,
   "metadata": {},
   "outputs": [],
   "source": [
    "        template = \"\"\"Search detailed information about this contact that works at this client\n",
    "        contact   : {contact}\n",
    "        client    : {client}\n",
    "        \"\"\"\n",
    "        prompt = PromptTemplate(\n",
    "            input_variables=['contact','client'],\n",
    "            template=template,\n",
    "        )"
   ]
  },
  {
   "cell_type": "code",
   "execution_count": 49,
   "metadata": {},
   "outputs": [],
   "source": [
    "\n",
    "\n",
    "template = \"\"\"Locate information about the contact that works for the client\n",
    "contact   : {contact}\n",
    "client    : {client}\n",
    "\"\"\"\n",
    "prompt = PromptTemplate(\n",
    "    input_variables=['contact','client'],\n",
    "    template=template,\n",
    ")"
   ]
  },
  {
   "cell_type": "code",
   "execution_count": 50,
   "metadata": {},
   "outputs": [
    {
     "data": {
      "text/plain": [
       "PromptTemplate(input_variables=['contact', 'client'], output_parser=None, template='Locate information about the contact that works for the client\\ncontact   : {contact}\\nclient    : {client}\\n', template_format='f-string')"
      ]
     },
     "execution_count": 50,
     "metadata": {},
     "output_type": "execute_result"
    }
   ],
   "source": [
    "prompt"
   ]
  },
  {
   "cell_type": "code",
   "execution_count": null,
   "metadata": {},
   "outputs": [],
   "source": []
  },
  {
   "cell_type": "code",
   "execution_count": 52,
   "metadata": {},
   "outputs": [
    {
     "name": "stdout",
     "output_type": "stream",
     "text": [
      "\n",
      "\n",
      "Bruno Machado is a Brazilian professional footballer who plays as a midfielder for Portuguese club Vitória de Setúbal. He began his career with Brazilian club Atlético Paranaense in 2011, before moving to Portuguese club Vitória de Setúbal in 2014. He has since made over 100 appearances for the club, scoring 11 goals. He has also represented Brazil at the U-20 level.\n"
     ]
    }
   ],
   "source": [
    "client_contact = 'Bruno Machado'\n",
    "client = \"Guruja\"\n",
    "\n",
    "prompt_contact = PromptTemplate(\n",
    "    input_variables=[\"contact\"],\n",
    "    template=\"Search detailed information about the person named {contact} \",\n",
    ")\n",
    "\n",
    "chain = LLMChain(llm=llm, prompt=prompt_contact)\n",
    "results_client = chain({\"contact\": client_contact,\"client\":client})\n",
    "print(results_client['text'])"
   ]
  },
  {
   "cell_type": "code",
   "execution_count": 43,
   "metadata": {},
   "outputs": [
    {
     "ename": "NameError",
     "evalue": "name 'client_url' is not defined",
     "output_type": "error",
     "traceback": [
      "\u001b[0;31m---------------------------------------------------------------------------\u001b[0m",
      "\u001b[0;31mNameError\u001b[0m                                 Traceback (most recent call last)",
      "Cell \u001b[0;32mIn[43], line 1\u001b[0m\n\u001b[0;32m----> 1\u001b[0m texto \u001b[39m=\u001b[39m \u001b[39mf\u001b[39m\u001b[39m'\u001b[39m\u001b[39mSearch for additional information about a company whose site is named \u001b[39m\u001b[39m{\u001b[39;00mclient_url\u001b[39m}\u001b[39;00m\u001b[39m in Brazil and \u001b[39m\u001b[39m{\u001b[39;00mclient_contact\u001b[39m}\u001b[39;00m\u001b[39m that works there\u001b[39m\u001b[39m'\u001b[39m\n\u001b[1;32m      2\u001b[0m texto\n",
      "\u001b[0;31mNameError\u001b[0m: name 'client_url' is not defined"
     ]
    }
   ],
   "source": [
    "texto = f'Search for additional information about a company whose site is named {client_url} in Brazil and {client_contact} that works there'\n",
    "texto"
   ]
  },
  {
   "cell_type": "code",
   "execution_count": 8,
   "metadata": {},
   "outputs": [
    {
     "name": "stdout",
     "output_type": "stream",
     "text": [
      "\n",
      "\n",
      "\u001b[1m> Entering new AgentExecutor chain...\u001b[0m\n",
      "\u001b[32;1m\u001b[1;3m Yes.\n",
      "Follow up: What type of company is guruja.com.br?\u001b[0m\n",
      "Intermediate answer: \u001b[36;1m\u001b[1;3mCom a Guruja, seu trabalho é sentar e estudar. Estude por meio de metas semanais preparadas por um especialista no concurso dos seus sonhos e com o apoio da ...\u001b[0m\n",
      "\u001b[32;1m\u001b[1;3mGuruja.com.br is a company that provides online tutoring and study resources for students preparing for competitive exams.\n",
      "Follow up: What is Bruno Machado's role at Guruja.com.br?\u001b[0m\n",
      "Intermediate answer: \u001b[36;1m\u001b[1;3mAprovado em diversos concursos da área fiscal, com longa trajetória na criação de materiais e ferramentas de estudo, e uma coleção de alunos aprovados.\u001b[0m\n",
      "\u001b[32;1m\u001b[1;3mBruno Machado is a tutor and mentor at Guruja.com.br, with a long history of creating study materials and tools and a collection of successful students.\n",
      "So the final answer is: Guruja.com.br is a company that provides online tutoring and study resources for students preparing for competitive exams and Bruno Machado is a tutor and mentor at Guruja.com.br, with a long history of creating study materials and tools and a collection of successful students.\u001b[0m\n",
      "\u001b[1m> Finished AgentExecutor chain.\u001b[0m\n"
     ]
    }
   ],
   "source": [
    "response = self_ask_with_search(texto)"
   ]
  },
  {
   "cell_type": "code",
   "execution_count": 19,
   "metadata": {},
   "outputs": [
    {
     "data": {
      "text/plain": [
       "\"\\n\\nGuruja.com.br is a Brazilian online marketplace that connects customers with local service providers. The company was founded in 2014 and is based in São Paulo, Brazil. Guruja.com.br offers a wide range of services, including home services, automotive services, beauty services, and more. Customers can search for service providers in their area and book appointments online. The company also offers a mobile app for iOS and Android devices. Guruja.com.br has partnerships with several major companies, including Visa, Mastercard, and American Express. The company has received funding from investors such as Valor Capital Group, Monashees Capital, and Kaszek Ventures.\\nBruno Machado is the Chief Technology Officer at guruja.com.br. He is responsible for the development and implementation of the company's technology strategy. He has over 10 years of experience in software engineering, web development, and IT management. He has a Bachelor's degree in Computer Science from the University of São Paulo and a Master's degree in Information Systems from the University of Campinas. He is an expert in the development of web applications, mobile applications, and cloud computing solutions. He is also an experienced project manager and has a strong background in software architecture and design.\""
      ]
     },
     "execution_count": 19,
     "metadata": {},
     "output_type": "execute_result"
    }
   ],
   "source": [
    "#recipient = response['output']\n",
    "recipient = results_company + results_client['text']\n",
    "recipient"
   ]
  },
  {
   "cell_type": "code",
   "execution_count": 20,
   "metadata": {},
   "outputs": [],
   "source": [
    "from langchain.prompts import PromptTemplate\n",
    "\n",
    "template = \"\"\"Write an email offering software devolpement services for the recipient adding luby_prompt addiitonal information\"\n",
    "recipient   : {recipient}\n",
    "luby_text : {luby_text}\n",
    "\"\"\"\n",
    "prompt = PromptTemplate(\n",
    "    input_variables=['recipient','luby_text'],\n",
    "    template=template,\n",
    ")"
   ]
  },
  {
   "cell_type": "code",
   "execution_count": 21,
   "metadata": {},
   "outputs": [
    {
     "name": "stdout",
     "output_type": "stream",
     "text": [
      "\n",
      "Dear Bruno Machado,\n",
      "\n",
      "We are writing to you from Luby Prompt, a software development company that specializes in developing web applications, mobile applications, and cloud computing solutions. We have extensive experience in working with US-based clients in the financial industry, and we are confident that we can provide you with the best software development services.\n",
      "\n",
      "We understand that Guruja.com.br is a Brazilian online marketplace that connects customers with local service providers. We are confident that our software development services can help you to improve the customer experience and increase the efficiency of your operations. Our team of experienced software engineers and project managers can help you to develop and implement the best technology strategy for your business.\n",
      "\n",
      "We would be delighted to discuss our services with you in more detail. Please do not hesitate to contact us if you have any questions or would like to arrange a meeting.\n",
      "\n",
      "We look forward to hearing from you.\n",
      "\n",
      "Sincerely,\n",
      "\n",
      "Luby Prompt Team\n"
     ]
    }
   ],
   "source": [
    "chain = LLMChain(llm=llm, prompt=prompt)\n",
    "final = chain({\"recipient\": recipient,\"luby_prompt\":luby_prompt})\n",
    "print(final['text'])"
   ]
  },
  {
   "cell_type": "code",
   "execution_count": 10,
   "metadata": {},
   "outputs": [],
   "source": [
    "#texto_final = \"Write an email offering software devolpment services using {response['output']} information about the recipient \"\n",
    "#self_ask_with_search(texto_final)"
   ]
  },
  {
   "cell_type": "code",
   "execution_count": 11,
   "metadata": {},
   "outputs": [],
   "source": [
    "#import json\n",
    "#print(json.dumps(response[\"intermediate_steps\"], indent=2))"
   ]
  }
 ],
 "metadata": {
  "kernelspec": {
   "display_name": "nlp",
   "language": "python",
   "name": "python3"
  },
  "language_info": {
   "codemirror_mode": {
    "name": "ipython",
    "version": 3
   },
   "file_extension": ".py",
   "mimetype": "text/x-python",
   "name": "python",
   "nbconvert_exporter": "python",
   "pygments_lexer": "ipython3",
   "version": "3.10.8 (main, Nov 24 2022, 14:13:03) [GCC 11.2.0]"
  },
  "orig_nbformat": 4,
  "vscode": {
   "interpreter": {
    "hash": "4dcacae4b209be26253afbad938ed606d8633cbdbf64a21e50a3f0fad9ec4373"
   }
  }
 },
 "nbformat": 4,
 "nbformat_minor": 2
}
