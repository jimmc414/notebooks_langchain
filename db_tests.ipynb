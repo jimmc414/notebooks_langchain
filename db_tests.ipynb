{
 "cells": [
  {
   "cell_type": "code",
   "execution_count": 3,
   "metadata": {},
   "outputs": [],
   "source": [
    "import sqlite3\n",
    "sqliteConnection = sqlite3.connect(\"/home/rubensmau/rubens_emails.db\")\n",
    "cursor = sqliteConnection.cursor()"
   ]
  },
  {
   "cell_type": "code",
   "execution_count": 4,
   "metadata": {},
   "outputs": [
    {
     "data": {
      "text/plain": [
       "(333, 'a', 'a', 'a', 'aa', 'a', 'a')"
      ]
     },
     "execution_count": 4,
     "metadata": {},
     "output_type": "execute_result"
    }
   ],
   "source": [
    "res = cursor.execute(\"SELECT * FROM emails;\")\n",
    "res.fetchone()"
   ]
  },
  {
   "cell_type": "code",
   "execution_count": 8,
   "metadata": {},
   "outputs": [
    {
     "data": {
      "text/plain": [
       "['id', 'dest', 'origem', 'date', 'subject', 'preview', 'body']"
      ]
     },
     "execution_count": 8,
     "metadata": {},
     "output_type": "execute_result"
    }
   ],
   "source": [
    "names = list(map(lambda x: x[0], res.description))\n",
    "names"
   ]
  },
  {
   "cell_type": "code",
   "execution_count": 9,
   "metadata": {},
   "outputs": [],
   "source": [
    "sql= \"\"\"INSERT INTO emails (id,dest,origem,date,subject,preview,body) VALUES (?, ?, ?, ?, ?, ?, ? );\"\"\""
   ]
  },
  {
   "cell_type": "code",
   "execution_count": 10,
   "metadata": {},
   "outputs": [],
   "source": [
    "dados = (1, 'a', 'a', 'a', 'aa', 'a', 'a')"
   ]
  },
  {
   "cell_type": "code",
   "execution_count": 11,
   "metadata": {},
   "outputs": [
    {
     "data": {
      "text/plain": [
       "<sqlite3.Cursor at 0x7f8338180240>"
      ]
     },
     "execution_count": 11,
     "metadata": {},
     "output_type": "execute_result"
    }
   ],
   "source": [
    "cursor.execute(sql,dados)\n"
   ]
  },
  {
   "cell_type": "code",
   "execution_count": 12,
   "metadata": {},
   "outputs": [],
   "source": [
    "sqliteConnection.commit()"
   ]
  },
  {
   "cell_type": "code",
   "execution_count": 1,
   "metadata": {},
   "outputs": [
    {
     "ename": "NameError",
     "evalue": "name 'cursor' is not defined",
     "output_type": "error",
     "traceback": [
      "\u001b[0;31m---------------------------------------------------------------------------\u001b[0m",
      "\u001b[0;31mNameError\u001b[0m                                 Traceback (most recent call last)",
      "Cell \u001b[0;32mIn[1], line 1\u001b[0m\n\u001b[0;32m----> 1\u001b[0m cursor\u001b[39m.\u001b[39mclose()\n",
      "\u001b[0;31mNameError\u001b[0m: name 'cursor' is not defined"
     ]
    }
   ],
   "source": [
    "cursor.close()"
   ]
  },
  {
   "cell_type": "code",
   "execution_count": 1,
   "metadata": {},
   "outputs": [
    {
     "name": "stdout",
     "output_type": "stream",
     "text": [
      "https://www.geeksforgeeks.org/\n",
      "https://www.facebook.com/geeksforgeeks.org/\n",
      "https://www.instagram.com/geeks_for_geeks/\n",
      "https://in.linkedin.com/company/geeksforgeeks\n",
      "https://twitter.com/geeksforgeeks\n",
      "https://www.youtube.com/geeksforgeeksvideos\n",
      "https://www.geeksforgeeks.org/about/\n",
      "https://www.geeksforgeeks.org/careers/\n",
      "https://www.geeksforgeeks.org/privacy-policy/\n",
      "https://www.geeksforgeeks.org/about/contact-us/\n",
      "https://practice.geeksforgeeks.org/terms-of-service/\n",
      "https://www.geeksforgeeks.org/fundamentals-of-algorithms/\n",
      "https://www.geeksforgeeks.org/data-structures/\n",
      "https://www.geeksforgeeks.org/category/program-output/\n",
      "https://www.geeksforgeeks.org/articles-on-computer-science-subjects-gq/\n",
      "https://www.youtube.com/geeksforgeeksvideos/\n",
      "https://practice.geeksforgeeks.org/courses/\n",
      "https://practice.geeksforgeeks.org/company-tags/\n",
      "https://practice.geeksforgeeks.org/topic-tags/\n",
      "https://practice.geeksforgeeks.org/faq.php\n",
      "https://www.geeksforgeeks.org/contribute/\n",
      "https://www.geeksforgeeks.org/write-interview-experience/\n",
      "https://www.geeksforgeeks.org/internship/\n",
      "https://www.geeksforgeeks.org/how-to-contribute-videos-to-geeksforgeeks/\n",
      "https://www.geeksforgeeks.org/\n",
      "https://www.geeksforgeeks.org/copyright-information/\n"
     ]
    }
   ],
   "source": [
    "# import necessary libraries\n",
    "from bs4 import BeautifulSoup\n",
    "import requests\n",
    "import re\n",
    "\n",
    "\n",
    "\n",
    "\n",
    "# function to extract html document from given url\n",
    "def getHTMLdocument(url):\n",
    "\t\n",
    "\t# request for HTML document of given url\n",
    "\tresponse = requests.get(url)\n",
    "\t\n",
    "\t# response will be provided in JSON format\n",
    "\treturn response.text\n",
    "\n",
    "\t\n",
    "# assign required credentials\n",
    "# assign URL\n",
    "url_to_scrape = \"https://practice.geeksforgeeks.org/courses/\"\n",
    "\n",
    "# create document\n",
    "html_document = getHTMLdocument(url_to_scrape)\n",
    "\n",
    "# create soap object\n",
    "soup = BeautifulSoup(html_document, 'html.parser')\n",
    "\n",
    "\n",
    "# find all the anchor tags with \"href\"\n",
    "# attribute starting with \"https://\"\n",
    "for link in soup.find_all('a',\n",
    "\t\t\t\t\t\tattrs={'href': re.compile(\"^https://\")}):\n",
    "\t# display the actual urls\n",
    "\tprint(link.get('href'))\n"
   ]
  }
 ],
 "metadata": {
  "kernelspec": {
   "display_name": "nlp",
   "language": "python",
   "name": "python3"
  },
  "language_info": {
   "codemirror_mode": {
    "name": "ipython",
    "version": 3
   },
   "file_extension": ".py",
   "mimetype": "text/x-python",
   "name": "python",
   "nbconvert_exporter": "python",
   "pygments_lexer": "ipython3",
   "version": "3.10.8"
  },
  "orig_nbformat": 4,
  "vscode": {
   "interpreter": {
    "hash": "4dcacae4b209be26253afbad938ed606d8633cbdbf64a21e50a3f0fad9ec4373"
   }
  }
 },
 "nbformat": 4,
 "nbformat_minor": 2
}
