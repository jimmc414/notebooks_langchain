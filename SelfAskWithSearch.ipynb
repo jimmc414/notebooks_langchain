{
 "cells": [
  {
   "cell_type": "code",
   "execution_count": 1,
   "metadata": {},
   "outputs": [],
   "source": [
    "from langchain import OpenAI, SerpAPIWrapper\n",
    "from langchain.agents import initialize_agent, Tool\n",
    "\n",
    "llm = OpenAI(temperature=0)\n",
    "search = SerpAPIWrapper()\n",
    "tools = [\n",
    "    Tool(\n",
    "        name=\"Intermediate Answer\",\n",
    "        func=search.run\n",
    "    )\n",
    "]\n",
    "import os\n",
    "### ENABLING TRACING  https://langchain.readthedocs.io/en/latest/tracing/local_installation.html\n",
    "export LANGCHAIN_HANDLER=langchain"
   ]
  },
  {
   "cell_type": "code",
   "execution_count": 2,
   "metadata": {},
   "outputs": [
    {
     "name": "stdout",
     "output_type": "stream",
     "text": [
      "Name: langchain\n",
      "Version: 0.0.74\n",
      "Summary: Building applications with LLMs through composability\n",
      "Home-page: https://www.github.com/hwchase17/langchain\n",
      "Author: \n",
      "Author-email: \n",
      "License: MIT\n",
      "Location: /opt/conda/envs/nlp/lib/python3.9/site-packages\n",
      "Requires: dataclasses-json, numpy, pydantic, PyYAML, requests, SQLAlchemy\n",
      "Required-by: \n"
     ]
    }
   ],
   "source": [
    "!pip show langchain"
   ]
  },
  {
   "cell_type": "code",
   "execution_count": 3,
   "metadata": {},
   "outputs": [],
   "source": [
    "self_ask_with_search = initialize_agent(tools, llm, agent=\"self-ask-with-search\", verbose=True,return_intermediate_steps=True)"
   ]
  },
  {
   "cell_type": "code",
   "execution_count": 4,
   "metadata": {},
   "outputs": [],
   "source": [
    "res = self_ask_with_search.agent\n"
   ]
  },
  {
   "cell_type": "code",
   "execution_count": 5,
   "metadata": {},
   "outputs": [
    {
     "name": "stdout",
     "output_type": "stream",
     "text": [
      "Question: Who lived longer, Muhammad Ali or Alan Turing?\n",
      "Are follow up questions needed here: Yes.\n",
      "Follow up: How old was Muhammad Ali when he died?\n",
      "Intermediate answer: Muhammad Ali was 74 years old when he died.\n",
      "Follow up: How old was Alan Turing when he died?\n",
      "Intermediate answer: Alan Turing was 41 years old when he died.\n",
      "So the final answer is: Muhammad Ali\n",
      "\n",
      "Question: When was the founder of craigslist born?\n",
      "Are follow up questions needed here: Yes.\n",
      "Follow up: Who was the founder of craigslist?\n",
      "Intermediate answer: Craigslist was founded by Craig Newmark.\n",
      "Follow up: When was Craig Newmark born?\n",
      "Intermediate answer: Craig Newmark was born on December 6, 1952.\n",
      "So the final answer is: December 6, 1952\n",
      "\n",
      "Question: Who was the maternal grandfather of George Washington?\n",
      "Are follow up questions needed here: Yes.\n",
      "Follow up: Who was the mother of George Washington?\n",
      "Intermediate answer: The mother of George Washington was Mary Ball Washington.\n",
      "Follow up: Who was the father of Mary Ball Washington?\n",
      "Intermediate answer: The father of Mary Ball Washington was Joseph Ball.\n",
      "So the final answer is: Joseph Ball\n",
      "\n",
      "Question: Are both the directors of Jaws and Casino Royale from the same country?\n",
      "Are follow up questions needed here: Yes.\n",
      "Follow up: Who is the director of Jaws?\n",
      "Intermediate answer: The director of Jaws is Steven Spielberg.\n",
      "Follow up: Where is Steven Spielberg from?\n",
      "Intermediate answer: The United States.\n",
      "Follow up: Who is the director of Casino Royale?\n",
      "Intermediate answer: The director of Casino Royale is Martin Campbell.\n",
      "Follow up: Where is Martin Campbell from?\n",
      "Intermediate answer: New Zealand.\n",
      "So the final answer is: No\n",
      "\n",
      "Question: {input}\n",
      "Are followup questions needed here:{agent_scratchpad}\n"
     ]
    }
   ],
   "source": [
    "print(res.llm_chain.prompt.template)"
   ]
  },
  {
   "cell_type": "code",
   "execution_count": 6,
   "metadata": {},
   "outputs": [
    {
     "name": "stdout",
     "output_type": "stream",
     "text": [
      "\n",
      "\n",
      "\u001b[1m> Entering new AgentExecutor chain...\u001b[0m\n",
      "\u001b[32;1m\u001b[1;3m Yes.\n",
      "Follow up: Who is the singer of Right Back At It Again?\u001b[0m\n",
      "Intermediate answer: \u001b[36;1m\u001b[1;3mRight Back at It Again ; 3:20 · ADTR · Jeremy McKinnon, Alex Shelnutt, Kevin Skaff, Neil Westfall, Joshua Woodard · Jeremy McKinnon, Andrew Wade, Chad Gilbert.\u001b[0m\n",
      "\u001b[32;1m\u001b[1;3m\n",
      "Follow up: Where was Jeremy McKinnon born?\u001b[0m\n",
      "Intermediate answer: \u001b[36;1m\u001b[1;3mOcala, FL\u001b[0m\n",
      "\u001b[32;1m\u001b[1;3mSo the final answer is: Ocala, FL\u001b[0m\n",
      "\n",
      "\u001b[1m> Finished chain.\u001b[0m\n"
     ]
    },
    {
     "data": {
      "text/plain": [
       "{'input': 'Right Back At It Again contains lyrics co-written by the singer born in what city?',\n",
       " 'output': 'Ocala, FL',\n",
       " 'intermediate_steps': [(AgentAction(tool='Intermediate Answer', tool_input='Who is the singer of Right Back At It Again?', log=' Yes.\\nFollow up: Who is the singer of Right Back At It Again?'),\n",
       "   'Right Back at It Again ; 3:20 · ADTR · Jeremy McKinnon, Alex Shelnutt, Kevin Skaff, Neil Westfall, Joshua Woodard · Jeremy McKinnon, Andrew Wade, Chad Gilbert.'),\n",
       "  (AgentAction(tool='Intermediate Answer', tool_input='Where was Jeremy McKinnon born?', log='\\nFollow up: Where was Jeremy McKinnon born?'),\n",
       "   'Ocala, FL')]}"
      ]
     },
     "execution_count": 6,
     "metadata": {},
     "output_type": "execute_result"
    }
   ],
   "source": [
    "query =  'Right Back At It Again contains lyrics co-written by the singer born in what city?'\n",
    "response = self_ask_with_search(query)\n",
    "response"
   ]
  },
  {
   "cell_type": "code",
   "execution_count": 7,
   "metadata": {},
   "outputs": [
    {
     "data": {
      "text/plain": [
       "{'input': 'Right Back At It Again contains lyrics co-written by the singer born in what city?',\n",
       " 'output': 'Ocala, FL',\n",
       " 'intermediate_steps': [(AgentAction(tool='Intermediate Answer', tool_input='Who is the singer of Right Back At It Again?', log=' Yes.\\nFollow up: Who is the singer of Right Back At It Again?'),\n",
       "   'Right Back at It Again ; 3:20 · ADTR · Jeremy McKinnon, Alex Shelnutt, Kevin Skaff, Neil Westfall, Joshua Woodard · Jeremy McKinnon, Andrew Wade, Chad Gilbert.'),\n",
       "  (AgentAction(tool='Intermediate Answer', tool_input='Where was Jeremy McKinnon born?', log='Follow up: Where was Jeremy McKinnon born?'),\n",
       "   'Ocala, FL')]}"
      ]
     },
     "execution_count": 7,
     "metadata": {},
     "output_type": "execute_result"
    }
   ],
   "source": [
    "response"
   ]
  },
  {
   "cell_type": "code",
   "execution_count": 8,
   "metadata": {},
   "outputs": [
    {
     "name": "stdout",
     "output_type": "stream",
     "text": [
      "\n",
      "\n",
      "\u001b[1m> Entering new AgentExecutor chain...\u001b[0m\n",
      "\u001b[32;1m\u001b[1;3m Yes.\n",
      "Follow up: Who is the reigning men's U.S. Open champion?\u001b[0m\n",
      "Intermediate answer: \u001b[36;1m\u001b[1;3mList of US Open men's singles champions ; 5: Jimmy Connors 5: Pete Sampras 5: Roger Federer · 7: Richard Sears · 5: Roger Federer.\u001b[0m\n",
      "\u001b[32;1m\u001b[1;3mSo the final answer is: Roger Federer's hometown is Basel, Switzerland.\u001b[0m\n",
      "\u001b[1m> Finished AgentExecutor chain.\u001b[0m\n"
     ]
    }
   ],
   "source": [
    "response = self_ask_with_search(\"What is the hometown of the reigning men's U.S. Open champion?\")"
   ]
  },
  {
   "cell_type": "code",
   "execution_count": 9,
   "metadata": {},
   "outputs": [
    {
     "name": "stdout",
     "output_type": "stream",
     "text": [
      "[\n",
      "  [\n",
      "    [\n",
      "      \"Intermediate Answer\",\n",
      "      \"Who is the reigning men's U.S. Open champion?\",\n",
      "      \" Yes.\\nFollow up: Who is the reigning men's U.S. Open champion?\"\n",
      "    ],\n",
      "    \"List of US Open men's singles champions ; 5: Jimmy Connors 5: Pete Sampras 5: Roger Federer \\u00b7 7: Richard Sears \\u00b7 5: Roger Federer.\"\n",
      "  ]\n",
      "]\n"
     ]
    }
   ],
   "source": [
    "import json\n",
    "print(json.dumps(response[\"intermediate_steps\"], indent=2))"
   ]
  }
 ],
 "metadata": {
  "kernelspec": {
   "display_name": "nlp",
   "language": "python",
   "name": "python3"
  },
  "language_info": {
   "codemirror_mode": {
    "name": "ipython",
    "version": 3
   },
   "file_extension": ".py",
   "mimetype": "text/x-python",
   "name": "python",
   "nbconvert_exporter": "python",
   "pygments_lexer": "ipython3",
   "version": "3.9.4"
  },
  "orig_nbformat": 4,
  "vscode": {
   "interpreter": {
    "hash": "154abf72fb8cc0db1aa0e7366557ff891bff86d6d75b7e5f2e68a066d591bfd7"
   }
  }
 },
 "nbformat": 4,
 "nbformat_minor": 2
}
